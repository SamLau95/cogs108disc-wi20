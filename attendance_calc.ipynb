{
 "cells": [
  {
   "cell_type": "code",
   "execution_count": 1,
   "metadata": {
    "tags": [
     "remove_input"
    ]
   },
   "outputs": [],
   "source": [
    "# HIDDEN\n",
    "import numpy as np\n",
    "import matplotlib.pyplot as plt\n",
    "import pandas as pd\n",
    "import seaborn as sns\n",
    "%matplotlib inline\n",
    "import ipywidgets as widgets\n",
    "from ipywidgets import interact, interactive, fixed, interact_manual\n",
    "\n",
    "sns.set()\n",
    "sns.set_context('talk')\n",
    "np.set_printoptions(threshold=20, precision=2, suppress=True)\n",
    "pd.set_option('display.max_rows', 7)\n",
    "pd.set_option('display.max_columns', 8)\n",
    "pd.set_option('precision', 2)\n",
    "# This option stops scientific notation for pandas\n",
    "# pd.set_option('display.float_format', '{:.2f}'.format)"
   ]
  },
  {
   "cell_type": "code",
   "execution_count": 2,
   "metadata": {
    "tags": [
     "remove_input"
    ]
   },
   "outputs": [],
   "source": [
    "# HIDDEN\n",
    "def df_interact(df, nrows=7, ncols=7):\n",
    "    '''\n",
    "    Outputs sliders that show rows and columns of df\n",
    "    '''\n",
    "    def peek(row=0, col=0):\n",
    "        return df.iloc[row:row + nrows, col:col + ncols]\n",
    "\n",
    "    row_arg = (0, len(df), nrows) if len(df) > nrows else fixed(0)\n",
    "    col_arg = ((0, len(df.columns), ncols)\n",
    "               if len(df.columns) > ncols else fixed(0))\n",
    "    \n",
    "    interact(peek, row=row_arg, col=col_arg)\n",
    "    print('({} rows, {} columns) total'.format(df.shape[0], df.shape[1]))\n",
    "\n",
    "def display_df(df, rows=pd.options.display.max_rows,\n",
    "               cols=pd.options.display.max_columns):\n",
    "    with pd.option_context('display.max_rows', rows,\n",
    "                           'display.max_columns', cols):\n",
    "        display(df)"
   ]
  },
  {
   "cell_type": "code",
   "execution_count": 3,
   "metadata": {},
   "outputs": [
    {
     "data": {
      "text/html": [
       "<div>\n",
       "<style scoped>\n",
       "    .dataframe tbody tr th:only-of-type {\n",
       "        vertical-align: middle;\n",
       "    }\n",
       "\n",
       "    .dataframe tbody tr th {\n",
       "        vertical-align: top;\n",
       "    }\n",
       "\n",
       "    .dataframe thead th {\n",
       "        text-align: right;\n",
       "    }\n",
       "</style>\n",
       "<table border=\"1\" class=\"dataframe\">\n",
       "  <thead>\n",
       "    <tr style=\"text-align: right;\">\n",
       "      <th></th>\n",
       "      <th>time</th>\n",
       "      <th>email</th>\n",
       "      <th>name</th>\n",
       "      <th>pid</th>\n",
       "      <th>sec</th>\n",
       "      <th>num</th>\n",
       "      <th>week</th>\n",
       "    </tr>\n",
       "  </thead>\n",
       "  <tbody>\n",
       "    <tr>\n",
       "      <th>0</th>\n",
       "      <td>2020-01-13 14:30:12-08:00</td>\n",
       "      <td>tyukelso@ucsd.edu</td>\n",
       "      <td>Taly Yukelson</td>\n",
       "      <td>A13341358</td>\n",
       "      <td>Mon 2pm</td>\n",
       "      <td>16</td>\n",
       "      <td>1</td>\n",
       "    </tr>\n",
       "    <tr>\n",
       "      <th>1</th>\n",
       "      <td>2020-01-13 14:30:15-08:00</td>\n",
       "      <td>adgaur@ucsd.edu</td>\n",
       "      <td>Aditi Gaur</td>\n",
       "      <td>A13675621</td>\n",
       "      <td>Mon 2pm</td>\n",
       "      <td>17</td>\n",
       "      <td>1</td>\n",
       "    </tr>\n",
       "    <tr>\n",
       "      <th>2</th>\n",
       "      <td>2020-01-13 14:30:22-08:00</td>\n",
       "      <td>nsamadha@ucsd.edu</td>\n",
       "      <td>Nevan Samadhana</td>\n",
       "      <td>A13837722</td>\n",
       "      <td>Mon 2pm</td>\n",
       "      <td>22</td>\n",
       "      <td>1</td>\n",
       "    </tr>\n",
       "    <tr>\n",
       "      <th>...</th>\n",
       "      <td>...</td>\n",
       "      <td>...</td>\n",
       "      <td>...</td>\n",
       "      <td>...</td>\n",
       "      <td>...</td>\n",
       "      <td>...</td>\n",
       "      <td>...</td>\n",
       "    </tr>\n",
       "    <tr>\n",
       "      <th>1202</th>\n",
       "      <td>2020-02-24 15:42:05-08:00</td>\n",
       "      <td>imnemato@ucsd.edu</td>\n",
       "      <td>Iman Nematollahi</td>\n",
       "      <td>A14943837</td>\n",
       "      <td>Mon 3pm</td>\n",
       "      <td>7</td>\n",
       "      <td>7</td>\n",
       "    </tr>\n",
       "    <tr>\n",
       "      <th>1203</th>\n",
       "      <td>2020-02-24 15:42:06-08:00</td>\n",
       "      <td>jiz613@ucsd.edu</td>\n",
       "      <td>Jiawei Zheng</td>\n",
       "      <td>A14895383</td>\n",
       "      <td>Mon 3pm</td>\n",
       "      <td>4</td>\n",
       "      <td>7</td>\n",
       "    </tr>\n",
       "    <tr>\n",
       "      <th>1204</th>\n",
       "      <td>2020-02-24 15:42:17-08:00</td>\n",
       "      <td>zneese@ucsd.edu</td>\n",
       "      <td>Zachary E Neese</td>\n",
       "      <td>A14840248</td>\n",
       "      <td>Mon 3pm</td>\n",
       "      <td>2</td>\n",
       "      <td>7</td>\n",
       "    </tr>\n",
       "  </tbody>\n",
       "</table>\n",
       "<p>1205 rows × 7 columns</p>\n",
       "</div>"
      ],
      "text/plain": [
       "                          time              email              name  \\\n",
       "0    2020-01-13 14:30:12-08:00  tyukelso@ucsd.edu     Taly Yukelson   \n",
       "1    2020-01-13 14:30:15-08:00    adgaur@ucsd.edu        Aditi Gaur   \n",
       "2    2020-01-13 14:30:22-08:00  nsamadha@ucsd.edu  Nevan Samadhana    \n",
       "...                        ...                ...               ...   \n",
       "1202 2020-02-24 15:42:05-08:00  imnemato@ucsd.edu  Iman Nematollahi   \n",
       "1203 2020-02-24 15:42:06-08:00    jiz613@ucsd.edu      Jiawei Zheng   \n",
       "1204 2020-02-24 15:42:17-08:00    zneese@ucsd.edu   Zachary E Neese   \n",
       "\n",
       "            pid      sec  num  week  \n",
       "0     A13341358  Mon 2pm   16     1  \n",
       "1     A13675621  Mon 2pm   17     1  \n",
       "2     A13837722  Mon 2pm   22     1  \n",
       "...         ...      ...  ...   ...  \n",
       "1202  A14943837  Mon 3pm    7     7  \n",
       "1203  A14895383  Mon 3pm    4     7  \n",
       "1204  A14840248  Mon 3pm    2     7  \n",
       "\n",
       "[1205 rows x 7 columns]"
      ]
     },
     "execution_count": 3,
     "metadata": {},
     "output_type": "execute_result"
    }
   ],
   "source": [
    "at = (pd.read_csv('attendance_private.csv',\n",
    "                  names=['time', 'email', 'name', 'pid', 'sec', 'num'],\n",
    "                  skiprows=1)\n",
    "      .assign(pid=lambda at: at['pid'].str.upper())\n",
    "      .assign(time=lambda at: pd.to_datetime(at['time']))\n",
    "      .assign(week=lambda at: at['time'].dt.week - 2)\n",
    "     )\n",
    "at"
   ]
  },
  {
   "cell_type": "code",
   "execution_count": 5,
   "metadata": {},
   "outputs": [
    {
     "data": {
      "application/vnd.jupyter.widget-view+json": {
       "model_id": "d610c2bbe80f4dee9c4773011bf393e4",
       "version_major": 2,
       "version_minor": 0
      },
      "text/plain": [
       "interactive(children=(Output(),), _dom_classes=('widget-interact',))"
      ]
     },
     "metadata": {},
     "output_type": "display_data"
    },
    {
     "name": "stdout",
     "output_type": "stream",
     "text": [
      "(4 rows, 7 columns) total\n"
     ]
    }
   ],
   "source": [
    "df_interact(at[\n",
    "    (at['email'].str.contains('d1'))\n",
    "    & (at['sec'].isin(['Wed 12pm', 'Wed 1pm']))\n",
    "])"
   ]
  },
  {
   "cell_type": "code",
   "execution_count": null,
   "metadata": {},
   "outputs": [],
   "source": [
    "students = (pd.pivot_table(at.assign(at=1), values='at', index='pid', columns='week')\n",
    " .fillna(0)\n",
    " .astype(int)\n",
    ")\n",
    "students"
   ]
  },
  {
   "cell_type": "code",
   "execution_count": null,
   "metadata": {},
   "outputs": [],
   "source": [
    "(at.groupby('week')\n",
    " .size()\n",
    " .rename('checkins')\n",
    " .to_frame()\n",
    ")"
   ]
  },
  {
   "cell_type": "code",
   "execution_count": null,
   "metadata": {},
   "outputs": [],
   "source": [
    "plt.figure(figsize=(10, 10))\n",
    "(at.set_index('time')\n",
    " .resample('1D')\n",
    " .size()\n",
    " .rename('checkins')\n",
    " .to_frame()\n",
    " .query('checkins > 0')\n",
    " .plot.line()\n",
    ")"
   ]
  },
  {
   "cell_type": "code",
   "execution_count": null,
   "metadata": {},
   "outputs": [],
   "source": [
    "plt.figure(figsize=(10, 10))\n",
    "(at.groupby(['week', 'sec'])\n",
    " .size()\n",
    " .plot.barh()\n",
    ")"
   ]
  },
  {
   "cell_type": "code",
   "execution_count": null,
   "metadata": {},
   "outputs": [],
   "source": []
  }
 ],
 "metadata": {
  "kernelspec": {
   "display_name": "Python 3",
   "language": "python",
   "name": "python3"
  },
  "language_info": {
   "codemirror_mode": {
    "name": "ipython",
    "version": 3
   },
   "file_extension": ".py",
   "mimetype": "text/x-python",
   "name": "python",
   "nbconvert_exporter": "python",
   "pygments_lexer": "ipython3",
   "version": "3.7.3"
  }
 },
 "nbformat": 4,
 "nbformat_minor": 2
}
